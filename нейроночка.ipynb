{
 "cells": [
  {
   "cell_type": "markdown",
   "metadata": {},
   "source": [
    "### Реализация нейронной сети"
   ]
  },
  {
   "cell_type": "markdown",
   "metadata": {},
   "source": [
    "В этом блоке обучим полносвязную нейронную сеть распознавать рукописные цифры, самостоятельно реализовав все составляющие алгоритма обучения и предсказания.\n",
    "\n",
    "Для реализации модели воспользуемся фреймворком **Pytorch**. Стандартным подходом при реализации нейросетевых моделей является её декомпозиция на отдельные блоки. С помощью данной библиотеки можно создавать как модели из готовых блоков-слоёв, так и реализовывать свои модули. При этом Pytorch скрывает все сложности, связанные с вычислениями выходов модели по её входам и подсчётом градиентов, что делает эту библиотеку особенно удобной при использовании *Градиентных методов оптимизации*, таких как **Стохастический Градиентный Спуск (SGD)**, **LBFGS** и других. "
   ]
  },
  {
   "cell_type": "code",
   "execution_count": 1,
   "metadata": {
    "ExecuteTime": {
     "end_time": "2022-09-19T20:11:47.235524Z",
     "start_time": "2022-09-19T20:11:45.725676Z"
    }
   },
   "outputs": [],
   "source": [
    "import torch\n",
    "\n",
    "import numpy as np"
   ]
  },
  {
   "cell_type": "markdown",
   "metadata": {},
   "source": [
    "Рассмотрим простейший пример модуля, который реализует **Тождественное преобразование**:"
   ]
  },
  {
   "cell_type": "code",
   "execution_count": 2,
   "metadata": {
    "ExecuteTime": {
     "end_time": "2022-09-19T20:11:47.242894Z",
     "start_time": "2022-09-19T20:11:47.237889Z"
    }
   },
   "outputs": [],
   "source": [
    "class Identity(torch.nn.Module):\n",
    "    def __init__(self):\n",
    "        # Необходимо вызвать конструктор базового класса для корректной работы блока\n",
    "        super().__init__()\n",
    "        \n",
    "    def forward(self, x: torch.Tensor) -> torch.Tensor:\n",
    "        '''\n",
    "        Функция, реализующая прямой проход через слой. В процессе вычислений создаётся граф вычислений\n",
    "            сквозь который выполняется автоматическое дифференцирование.\n",
    "        '''\n",
    "        return x\n",
    "    \n",
    "    def __repr__(self):\n",
    "\n",
    "        return 'Identity()'"
   ]
  },
  {
   "cell_type": "markdown",
   "metadata": {},
   "source": [
    "Создадим экземпляр данного слоя и проверим его работу:"
   ]
  },
  {
   "cell_type": "code",
   "execution_count": 3,
   "metadata": {
    "ExecuteTime": {
     "end_time": "2022-09-19T20:11:47.252631Z",
     "start_time": "2022-09-19T20:11:47.244679Z"
    }
   },
   "outputs": [
    {
     "name": "stdout",
     "output_type": "stream",
     "text": [
      "tensor([[ 1.4175,  0.8315,  1.5518, -1.6783, -0.4060],\n",
      "        [-0.4235, -0.6578,  1.9966,  0.5924, -0.0261],\n",
      "        [ 0.3223, -0.4988, -1.3283,  0.5820,  0.0116]])\n",
      "tensor([[ 1.4175,  0.8315,  1.5518, -1.6783, -0.4060],\n",
      "        [-0.4235, -0.6578,  1.9966,  0.5924, -0.0261],\n",
      "        [ 0.3223, -0.4988, -1.3283,  0.5820,  0.0116]])\n",
      "Identity() True\n"
     ]
    }
   ],
   "source": [
    "identity_layer = Identity()\n",
    "x = torch.randn([3, 5])\n",
    "\n",
    "# метод __call__ был автоматически переопределён через вызов метода forward\n",
    "print(x, identity_layer(x), sep='\\n')\n",
    "print(identity_layer, torch.equal(x, identity_layer(x)))"
   ]
  },
  {
   "cell_type": "markdown",
   "metadata": {},
   "source": [
    "### Слой нелинейности ReLU"
   ]
  },
  {
   "cell_type": "markdown",
   "metadata": {},
   "source": [
    "Теперь реализуем слой нелинейности $\\text{ReLU}(y) = \\max(0, y)$. Параметров у слоя нет. Метод `forward` должен вернуть результат поэлементного применения $\\text{ReLU}$ к входному массиву."
   ]
  },
  {
   "cell_type": "code",
   "execution_count": 4,
   "metadata": {
    "ExecuteTime": {
     "end_time": "2022-09-19T20:11:47.260473Z",
     "start_time": "2022-09-19T20:11:47.257096Z"
    }
   },
   "outputs": [],
   "source": [
    "class ReLU(torch.nn.Module):\n",
    "    def __init__(self):\n",
    "        '''\n",
    "        Слой ReLU поэлементно применяет rectified linear unit к своему входу\n",
    "        '''\n",
    "        super().__init__()\n",
    "    \n",
    "    def forward(self, x: torch.Tensor) -> torch.Tensor:\n",
    "        '''\n",
    "        Применяет ReLU ко входному тензору\n",
    "        '''\n",
    "        return torch.maximum(x, torch.zeros_like(x))"
   ]
  },
  {
   "cell_type": "code",
   "execution_count": 5,
   "metadata": {
    "ExecuteTime": {
     "end_time": "2022-09-19T20:11:47.271673Z",
     "start_time": "2022-09-19T20:11:47.262814Z"
    }
   },
   "outputs": [
    {
     "name": "stdout",
     "output_type": "stream",
     "text": [
      "tensor([[ 0.2404, -3.0205, -0.3688, -0.6817,  0.1443],\n",
      "        [ 0.7374, -1.0377,  0.4602,  0.2372,  0.6118],\n",
      "        [-1.3664, -2.6385,  1.8878, -0.5152,  0.5457]])\n",
      "tensor([[0.2404, 0.0000, 0.0000, 0.0000, 0.1443],\n",
      "        [0.7374, 0.0000, 0.4602, 0.2372, 0.6118],\n",
      "        [0.0000, 0.0000, 1.8878, 0.0000, 0.5457]])\n",
      "ReLU()\n"
     ]
    }
   ],
   "source": [
    "relu_layer = ReLU()\n",
    "x = torch.randn([3, 5])\n",
    "\n",
    "assert not torch.any(relu_layer(x) < 0)\n",
    "assert torch.all(torch.eq(relu_layer(x), torch.nn.ReLU()(x)))\n",
    "\n",
    "print(x, relu_layer(x), sep='\\n')\n",
    "print(relu_layer)"
   ]
  },
  {
   "cell_type": "markdown",
   "metadata": {},
   "source": [
    "### Полносвязный слой"
   ]
  },
  {
   "cell_type": "markdown",
   "metadata": {},
   "source": [
    "Далее реализуем полносвязный слой без нелинейности `Linear`. У слоя два параметра: **матрица весов** и **вектор сдвига**. \n",
    "\n",
    "Если параметры/буферы/подмодули зарегистрированы в модуле, то базовый класс позволяет удобно работать с этими сущностями. Рассмотрим основные методы:\n",
    "* `parameters` — возвращает итератор по всем параметрам, зарегистрированным в данном модуле и всех его подмодулях\n",
    "* `named_parameters` — возвращает итератор по всем параметрам и их именам, зарегистрированным в данном модуле и всех его подмодулях\n",
    "* `buffers`/`named_buffers` — аналогичные функции для получения доступа к списку всех буферов\n",
    "* `requires_grad_(requires_grad=True)` — in-place метод, включающий или выключающий подсчёт градиентов для параметров\n",
    "* `to(device, dtype)` — изменение типа параметров и устройства на котором они располагаются\n",
    "* `train`/`eval` — рекурсивное переключение режимов работы модулей. Обычно, перед обучением сети необходимо вызвать метод `train`, а перед тестированием (инференсом) — перевести в режим `eval`. Данные методы необходимы для корректной реализации таких методов регуляризации как BatchNorm и Dropout\n"
   ]
  },
  {
   "cell_type": "markdown",
   "metadata": {},
   "source": [
    "Реализуем блок линейного слоя в ячейке ниже."
   ]
  },
  {
   "cell_type": "code",
   "execution_count": 6,
   "metadata": {
    "ExecuteTime": {
     "end_time": "2022-09-19T20:11:47.280354Z",
     "start_time": "2022-09-19T20:11:47.273449Z"
    }
   },
   "outputs": [],
   "source": [
    "class Linear(torch.nn.Module):\n",
    "    def __init__(self, in_features, out_features):\n",
    "        '''\n",
    "        Полносвязный слой — это слой выполняющий аффинное преобразование f(x) = x W + b\n",
    "        '''\n",
    "        super().__init__()\n",
    "\n",
    "        # Создаем необходимые обучаемые параметры\n",
    "        self.weight = torch.nn.Parameter(torch.randn(in_features, out_features)) \n",
    "        self.bias = torch.nn.Parameter(torch.randn(out_features))\n",
    "        \n",
    "        # Выполняем инициализацию весов\n",
    "        self.reset_parameters()\n",
    "        \n",
    "    def reset_parameters(self):\n",
    "        '''\n",
    "        Инициализация весов полносвязного слоя из нормального распределения с \n",
    "            нулевым средним и стандартным отклонением 0.01\n",
    "        Вектор-смещение инициализируется нулями\n",
    "        '''\n",
    "        torch.nn.init.normal_(self.weight, mean=0, std=0.01)\n",
    "        torch.nn.init.zeros_(self.bias)\n",
    "\n",
    "    def forward(self, x: torch.Tensor) -> torch.Tensor:\n",
    "        '''\n",
    "        Выполнение аффинного преобразования f(x) = x W + b\n",
    "        \n",
    "        :param torch.Tensor x: входная матрица размера [batch_size, in_features]\n",
    "        :returns: матрица размера [batch_size, out_features]\n",
    "        '''\n",
    "        return x @ self.weight + self.bias\n",
    "    \n",
    "    def __repr__(self):\n",
    "        '''\n",
    "        Опциональный метод для красивого вывода\n",
    "        '''\n",
    "        return 'Linear({0:d}, {1:d})'.format(*self.weight.shape)"
   ]
  },
  {
   "cell_type": "code",
   "execution_count": 7,
   "metadata": {
    "ExecuteTime": {
     "end_time": "2022-09-19T20:11:47.304226Z",
     "start_time": "2022-09-19T20:11:47.283009Z"
    }
   },
   "outputs": [
    {
     "name": "stdout",
     "output_type": "stream",
     "text": [
      "tensor([[ 1.1503,  1.8217,  0.0106],\n",
      "        [-0.0758,  0.0268, -0.7756]])\n",
      "tensor([[ 0.0211,  0.0058, -0.0092, -0.0257,  0.0200],\n",
      "        [ 0.0055,  0.0081, -0.0064, -0.0133,  0.0014]], grad_fn=<AddBackward0>)\n",
      "Linear(3, 5)\n"
     ]
    }
   ],
   "source": [
    "linear_layer = Linear(3, 5)\n",
    "x = torch.randn([2, 3])\n",
    "\n",
    "print(x, linear_layer(x), sep='\\n')\n",
    "print(linear_layer)"
   ]
  },
  {
   "cell_type": "markdown",
   "metadata": {},
   "source": [
    "Блоки-наследники `torch.nn.Module` автоматически сохраняют информацию о своей структуре: параметрах, буферах. Например, можно получить генератор всех параметров в данном блоке (метод `parameters`). Более того, каждый параметр имеет своё уникальное имя (обычно оно совпадает с названием переменной, в которую соответствующий параметр был присвоен). Именованный список параметров можно получить через вызов метода `named_parameters`:"
   ]
  },
  {
   "cell_type": "code",
   "execution_count": 8,
   "metadata": {
    "ExecuteTime": {
     "end_time": "2022-09-19T20:11:47.319703Z",
     "start_time": "2022-09-19T20:11:47.306197Z"
    }
   },
   "outputs": [
    {
     "data": {
      "text/plain": [
       "(Linear(3, 5),\n",
       " [Parameter containing:\n",
       "  tensor([[ 7.7475e-03, -6.7751e-03, -1.4975e-02, -5.1236e-05,  6.7737e-03],\n",
       "          [ 6.7118e-03,  7.5398e-03,  4.3209e-03, -1.4185e-02,  6.7008e-03],\n",
       "          [-7.6615e-03, -9.5749e-03,  9.8271e-03,  1.6609e-02, -2.2746e-03]],\n",
       "         requires_grad=True),\n",
       "  Parameter containing:\n",
       "  tensor([0., 0., 0., 0., 0.], requires_grad=True)],\n",
       " [('weight',\n",
       "   Parameter containing:\n",
       "   tensor([[ 7.7475e-03, -6.7751e-03, -1.4975e-02, -5.1236e-05,  6.7737e-03],\n",
       "           [ 6.7118e-03,  7.5398e-03,  4.3209e-03, -1.4185e-02,  6.7008e-03],\n",
       "           [-7.6615e-03, -9.5749e-03,  9.8271e-03,  1.6609e-02, -2.2746e-03]],\n",
       "          requires_grad=True)),\n",
       "  ('bias',\n",
       "   Parameter containing:\n",
       "   tensor([0., 0., 0., 0., 0.], requires_grad=True))])"
      ]
     },
     "execution_count": 8,
     "metadata": {},
     "output_type": "execute_result"
    }
   ],
   "source": [
    "linear_layer, list(linear_layer.parameters()), list(linear_layer.named_parameters())"
   ]
  },
  {
   "cell_type": "markdown",
   "metadata": {},
   "source": [
    "### Реализация Softmax-слоя и функции потерь"
   ]
  },
  {
   "cell_type": "markdown",
   "metadata": {},
   "source": [
    "Для решения задачи многоклассовой классификации обычно используют $Softmax$ в качестве нелинейности на последнем слое, чтобы получить вероятности классов для каждого объекта:\n",
    "$$\\hat y = \\text{Softmax}(x)  = \\left \\{\\frac {\\exp(x^i)}{\\sum_{j=1}^K \\exp(x^j)} \\right \\}_{i=1}^K, \\quad K - \\text{число классов.}$$\n",
    "\n",
    "Здесь за $x^i$ мы обозначаем $i$-ый признак объекта $x$.\n",
    "\n",
    "В качестве функции потерь выберем отрицательный логарифм правдоподобия (по-английски: negative log likelihood или NLL)\n",
    "$$L(y, \\hat y) = -\\sum_{i=1}^K \\mathbb{1}[y = i]\\log \\hat y^i,$$\n",
    "где $\\mathbb{1}[y = i]$ — индикатор принадлежности $i$-му классу.\n",
    "\n",
    "NLL совпадает с выражением для [кросс-энтропии](https://ru.wikipedia.org/wiki/Перекрёстная_энтропия) (в качестве первого распределения берем вырожденное распределение в точке $y$, в качестве второго — предсказанное распределение $\\hat y$). Очевидно, что эту функцию потерь также можно переписать через индексацию, если через $y$ обозначить класс данного объекта:\n",
    "$$L(y, \\hat y) = - \\log \\hat y_{y}$$\n",
    "\n",
    "В таком виде ее удобно реализовывать."
   ]
  },
  {
   "cell_type": "markdown",
   "metadata": {
    "ExecuteTime": {
     "end_time": "2021-03-03T13:13:02.970075Z",
     "start_time": "2021-03-03T13:13:02.961134Z"
    }
   },
   "source": [
    "Для обучения нейронной сети будем оптимизировать эту функцию потерь по параметрам нейронной сети:\n",
    "\n",
    "$$ \\mathfrak{L} = \\frac1N \\sum_{i=1}^N L(y_i, \\hat y_i) = \\frac1N \\sum_{i=1}^N L(y_i, \\text{NN}_{\\theta}(x_i)) \\rightarrow \\min_{\\theta}\\,,$$\n",
    "где за $x_i$ и $y_i$ мы обозначили признаки и таргет $i$-ого объекта обучающей выборки, за $\\text{NN}_{\\theta}$ мы обозначили нейронную сеть, которая по признакам объекта $x_i$ выдает распределение вероятностей $\\hat y_i$, за $\\theta$ мы обозначили все веса нейронной сети, а $N$ — это число объектов в обучающей выборке."
   ]
  },
  {
   "cell_type": "markdown",
   "metadata": {
    "ExecuteTime": {
     "end_time": "2022-08-16T14:13:40.959478Z",
     "start_time": "2022-08-16T14:13:40.950478Z"
    }
   },
   "source": [
    "Реализуем блок для вычисления кросс-энтропии в ячейке ниже."
   ]
  },
  {
   "cell_type": "code",
   "execution_count": 9,
   "metadata": {},
   "outputs": [],
   "source": [
    "from scipy.special import logsumexp"
   ]
  },
  {
   "cell_type": "code",
   "execution_count": 10,
   "metadata": {
    "ExecuteTime": {
     "end_time": "2022-09-19T20:11:47.326714Z",
     "start_time": "2022-09-19T20:11:47.321510Z"
    }
   },
   "outputs": [],
   "source": [
    "class CrossEntropyLoss(torch.nn.Module):\n",
    "    def __init__(self):\n",
    "        super().__init__()\n",
    "        \n",
    "    def forward(self, x: torch.Tensor, labels: torch.Tensor) -> torch.Tensor:\n",
    "        \"\"\"\n",
    "        Применение логсофтмакса к каждой строке, а затем выборка элементов в соответствии с метками истинного класса\n",
    "        :param torch.Tensor x: Матрица логитов размера [batch_size, n_classes]\n",
    "        :param torch.Tensor labels: Список меток истинного класса. Размер [batch_size]\n",
    "        :returns: Кросс-энтропийная функция потерь \n",
    "        \"\"\"\n",
    "        #return -torch.mean((x - torch.logsumexp(x, dim=1, keepdim=True))[torch.arange(labels.shape[0]), labels])\n",
    "        dif = x - torch.max(x, 1, keepdim=True)[0]\n",
    "        pred = dif - (dif).exp().sum(-1).log().unsqueeze(-1) \n",
    "\n",
    "        return -pred[range(labels.shape[0]), labels.long()].mean()"
   ]
  },
  {
   "cell_type": "code",
   "execution_count": 11,
   "metadata": {
    "ExecuteTime": {
     "end_time": "2022-09-19T20:11:47.347624Z",
     "start_time": "2022-09-19T20:11:47.331416Z"
    }
   },
   "outputs": [
    {
     "name": "stdout",
     "output_type": "stream",
     "text": [
      "CrossEntropyLoss() tensor(4.4965)\n"
     ]
    }
   ],
   "source": [
    "cel_layer = CrossEntropyLoss()\n",
    "x = torch.randn([101, 51])\n",
    "labels = torch.randint(0, x.shape[1], size=[x.shape[0]])\n",
    "\n",
    "assert torch.abs(cel_layer(x, labels) - torch.nn.CrossEntropyLoss()(x, labels)) < 1e-6\n",
    "\n",
    "print(cel_layer, cel_layer(x, labels))"
   ]
  },
  {
   "cell_type": "markdown",
   "metadata": {},
   "source": [
    "## Сборка нейронной сети"
   ]
  },
  {
   "cell_type": "markdown",
   "metadata": {},
   "source": [
    "Как и для параметров, существует несколько таких контейнеров:\n",
    "* `torch.nn.ModuleList` — хранит список модулей\n",
    "* `torch.nn.ModuleDict` — хранит словарь модулей\n",
    "* `torch.nn.Sequential` — особый контейнер, который хранит список модулей и позволяет последовательно применить модули из списка к объекту, поданному ему на вход"
   ]
  },
  {
   "cell_type": "markdown",
   "metadata": {},
   "source": [
    "Реализуем простейшую полносвязную нейронную сеть `DenseNetwork`. "
   ]
  },
  {
   "cell_type": "code",
   "execution_count": 12,
   "metadata": {
    "ExecuteTime": {
     "end_time": "2022-09-19T20:11:47.356637Z",
     "start_time": "2022-09-19T20:11:47.349757Z"
    },
    "code_folding": []
   },
   "outputs": [],
   "source": [
    "class DenseNetwork(torch.nn.Module):\n",
    "    def __init__(self, in_features, hidden_size, n_classes, n_layers, activation=ReLU):\n",
    "        '''\n",
    "        :param int in_features: Число входных признаков\n",
    "        :param int hidden_size: Размер скрытых слоёв\n",
    "        :param int n_classes: Число выходов сети \n",
    "        :param int n_layers: Число слоёв в сети\n",
    "        :param torch.nn.Module activation: Класс функции активации\n",
    "        '''\n",
    "        super().__init__()\n",
    "        #print(n_layers)\n",
    "        self.layers = torch.nn.Sequential(\n",
    "            *([Linear(in_features, hidden_size), ReLU()]) +\n",
    "            [ReLU() if i // 2 else Linear(hidden_size, hidden_size) for i in range(n_layers - 2)] +\n",
    "            [ReLU(), Linear(hidden_size, n_classes)])\n",
    "          \n",
    "        #lst = [Linear(in_features, hidden_size), ReLU()]\n",
    "        #for i in range(n_layers - 2):\n",
    "        #    lst += [Linear(hidden_size, hidden_size)]\n",
    "        #    lst += [ReLU()]\n",
    "        #lst += [Linear(hidden_size, n_classes), ReLU()]\n",
    "        #self.layers = torch.nn.Sequential(lst)\n",
    "        \n",
    "    def forward(self, x: torch.Tensor) -> torch.Tensor:\n",
    "        '''\n",
    "        Прямой проход по сети\n",
    "        :param torch.Tensor x: Входной тензор размера [batch_size, in_features]\n",
    "        :returns: Матрица логитов размера [batch_size, n_classes]\n",
    "        '''\n",
    "        return self.layers(x)"
   ]
  },
  {
   "cell_type": "markdown",
   "metadata": {},
   "source": [
    "Проверем, что ваша реализация сети проходит минимальные тесты:"
   ]
  },
  {
   "cell_type": "code",
   "execution_count": 13,
   "metadata": {
    "ExecuteTime": {
     "end_time": "2022-09-19T20:11:47.364849Z",
     "start_time": "2022-09-19T20:11:47.358513Z"
    }
   },
   "outputs": [],
   "source": [
    "assert sum(buffer.numel() for buffer in DenseNetwork(11, 7, 5, 3).buffers()) == 0\n",
    "assert sum(param.numel() for param in DenseNetwork(64, 32, 10, 3).parameters()) == 3466\n",
    "\n",
    "assert list(DenseNetwork(64, 32, 10, 3)(torch.randn([13, 64])).shape) == [13, 10]"
   ]
  },
  {
   "cell_type": "code",
   "execution_count": 14,
   "metadata": {
    "ExecuteTime": {
     "end_time": "2022-09-19T20:11:47.373142Z",
     "start_time": "2022-09-19T20:11:47.366997Z"
    }
   },
   "outputs": [
    {
     "name": "stdout",
     "output_type": "stream",
     "text": [
      "tensor([[-2.3890e-05,  1.2018e-04, -2.3670e-05, -4.7427e-05,  1.4806e-05,\n",
      "          3.2993e-05, -1.0908e-04, -1.0441e-04,  9.9353e-05, -2.8936e-05],\n",
      "        [-2.0330e-05, -8.1726e-05,  3.2085e-05, -1.3007e-04, -9.9083e-05,\n",
      "          4.3385e-05, -1.1227e-04, -6.0431e-05,  3.9184e-05, -4.2638e-07],\n",
      "        [-3.1551e-05, -1.1077e-04, -5.2416e-05, -5.0207e-05, -7.8614e-06,\n",
      "          1.2258e-04, -1.3501e-04,  2.6704e-05,  3.3931e-05,  1.0027e-04],\n",
      "        [-1.4175e-04, -1.0966e-04, -3.3265e-05, -1.3589e-04, -2.4031e-04,\n",
      "          8.9491e-05, -6.0803e-06, -1.2433e-04,  8.2653e-05, -2.6576e-06],\n",
      "        [ 1.2522e-05, -3.2147e-05,  1.7473e-04, -5.1909e-05, -7.2350e-05,\n",
      "          9.5696e-05, -2.2009e-04,  8.0951e-05,  1.6598e-04, -2.0359e-05]],\n",
      "       grad_fn=<AddBackward0>)\n",
      "DenseNetwork(\n",
      "  (layers): Sequential(\n",
      "    (0): Linear(64, 32)\n",
      "    (1): ReLU()\n",
      "    (2): Linear(32, 32)\n",
      "    (3): ReLU()\n",
      "    (4): Linear(32, 10)\n",
      "  )\n",
      ")\n"
     ]
    }
   ],
   "source": [
    "in_features = np.prod(8 * 8 * 1)\n",
    "hidden_size = 32\n",
    "n_classes = 10\n",
    "\n",
    "dense_network = DenseNetwork(\n",
    "    in_features=in_features, hidden_size=hidden_size, \n",
    "    n_classes=n_classes, n_layers=3, activation=ReLU\n",
    ")\n",
    "x = torch.randn([5, in_features])\n",
    "print(dense_network(x))\n",
    "print(dense_network)"
   ]
  },
  {
   "cell_type": "markdown",
   "metadata": {
    "ExecuteTime": {
     "end_time": "2022-08-16T20:24:43.905130Z",
     "start_time": "2022-08-16T20:24:43.888141Z"
    }
   },
   "source": [
    "Заметим, что можно получить список всех параметров сети за счёт автоматической регистрации модулей:"
   ]
  },
  {
   "cell_type": "code",
   "execution_count": 15,
   "metadata": {
    "ExecuteTime": {
     "end_time": "2022-09-19T20:11:47.387244Z",
     "start_time": "2022-09-19T20:11:47.374916Z"
    }
   },
   "outputs": [
    {
     "data": {
      "text/plain": [
       "[Parameter containing:\n",
       " tensor([[-5.9050e-03,  1.2505e-02,  8.0201e-03,  ...,  1.0825e-03,\n",
       "           7.8616e-04, -6.8374e-05],\n",
       "         [ 3.6782e-04, -1.1546e-02,  2.0553e-02,  ...,  1.3361e-02,\n",
       "           5.9600e-03,  8.1199e-03],\n",
       "         [ 7.3183e-03, -6.9545e-03, -2.3124e-03,  ..., -2.5054e-03,\n",
       "           1.0295e-02, -1.9554e-03],\n",
       "         ...,\n",
       "         [-9.9945e-03, -6.7990e-03, -4.0762e-03,  ..., -1.0775e-02,\n",
       "          -1.0524e-02, -6.9141e-04],\n",
       "         [ 1.5543e-02,  8.3522e-03,  1.3274e-02,  ...,  1.2970e-02,\n",
       "          -1.8647e-03, -9.5784e-03],\n",
       "         [-7.2782e-03, -1.9567e-02,  1.2945e-02,  ..., -2.1994e-03,\n",
       "           2.1000e-03,  1.8938e-03]], requires_grad=True),\n",
       " Parameter containing:\n",
       " tensor([0., 0., 0., 0., 0., 0., 0., 0., 0., 0., 0., 0., 0., 0., 0., 0., 0., 0., 0., 0., 0., 0., 0., 0.,\n",
       "         0., 0., 0., 0., 0., 0., 0., 0.], requires_grad=True),\n",
       " Parameter containing:\n",
       " tensor([[-0.0141,  0.0078,  0.0035,  ...,  0.0161, -0.0028,  0.0002],\n",
       "         [ 0.0090, -0.0191,  0.0046,  ..., -0.0192, -0.0020,  0.0034],\n",
       "         [-0.0182, -0.0104, -0.0226,  ...,  0.0017, -0.0029, -0.0025],\n",
       "         ...,\n",
       "         [-0.0006, -0.0147,  0.0196,  ...,  0.0151, -0.0043,  0.0062],\n",
       "         [-0.0044, -0.0002, -0.0065,  ...,  0.0050, -0.0055, -0.0029],\n",
       "         [-0.0070,  0.0297,  0.0100,  ...,  0.0151, -0.0032, -0.0082]],\n",
       "        requires_grad=True),\n",
       " Parameter containing:\n",
       " tensor([0., 0., 0., 0., 0., 0., 0., 0., 0., 0., 0., 0., 0., 0., 0., 0., 0., 0., 0., 0., 0., 0., 0., 0.,\n",
       "         0., 0., 0., 0., 0., 0., 0., 0.], requires_grad=True),\n",
       " Parameter containing:\n",
       " tensor([[ 1.0448e-02, -7.0173e-03, -2.8766e-03, -4.0686e-03,  1.1919e-03,\n",
       "          -1.1113e-02, -7.3019e-03, -7.3786e-03,  6.6315e-03, -2.2044e-03],\n",
       "         [-1.1114e-02, -1.6408e-03,  1.2888e-02, -1.8863e-03, -2.5187e-02,\n",
       "          -5.7600e-03, -8.7270e-03, -1.8065e-02, -2.0226e-02,  1.5377e-02],\n",
       "         [-5.2119e-04,  8.6493e-05, -9.5878e-03,  4.8549e-03,  8.2721e-03,\n",
       "           2.1085e-02,  2.4530e-03, -1.1180e-02, -1.2676e-02, -4.6560e-03],\n",
       "         [ 4.5677e-03,  1.6385e-03, -9.7088e-03, -7.7002e-03, -3.6327e-03,\n",
       "           8.0049e-03,  1.4082e-02, -5.5333e-05,  7.4807e-03, -3.4408e-03],\n",
       "         [-5.7092e-04, -2.5831e-02,  7.9266e-04,  1.9344e-03,  2.1153e-02,\n",
       "          -3.7892e-03, -7.9923e-03, -1.3448e-02,  1.8554e-02, -1.3970e-02],\n",
       "         [-9.2350e-03,  9.7159e-03, -2.3521e-03,  4.6455e-03, -1.1613e-02,\n",
       "          -8.8670e-03,  1.1246e-02,  3.5108e-03,  1.2569e-02,  2.1405e-02],\n",
       "         [ 1.0223e-02,  9.6367e-03,  3.2245e-03,  5.3680e-03, -1.7847e-02,\n",
       "           2.8013e-04, -5.7324e-03,  7.1041e-03,  8.1456e-03,  5.9792e-04],\n",
       "         [ 7.1881e-03,  1.1087e-02, -6.9643e-03, -9.3694e-03, -3.3454e-03,\n",
       "          -6.4034e-03, -7.6918e-03, -5.3563e-03, -4.2608e-03,  6.2830e-03],\n",
       "         [ 6.0664e-04,  1.2506e-02, -7.1424e-03, -9.6236e-03, -2.8180e-03,\n",
       "          -1.5683e-03,  4.1578e-03, -5.9410e-03, -9.0253e-03, -9.5436e-04],\n",
       "         [ 5.5943e-03,  1.4921e-02,  1.0269e-02,  8.2471e-03, -5.2787e-03,\n",
       "           4.9838e-03, -7.0073e-03, -6.5781e-04,  8.3240e-03,  7.8687e-03],\n",
       "         [ 1.1454e-03, -1.4881e-02, -2.0069e-02, -3.6700e-03,  1.2604e-02,\n",
       "           3.0090e-03, -9.2061e-03, -8.2466e-03,  6.1863e-03, -1.2066e-02],\n",
       "         [-4.3485e-03,  5.6048e-03, -6.1512e-03, -2.8448e-03,  1.0856e-02,\n",
       "          -2.2662e-03,  1.1492e-03,  5.7014e-03,  7.4449e-03, -1.8977e-03],\n",
       "         [-1.0749e-03,  2.3295e-03,  2.5671e-02, -1.7443e-02,  1.8281e-02,\n",
       "           8.5160e-03,  6.4738e-03,  9.9576e-04, -1.9955e-03,  1.0848e-03],\n",
       "         [-3.6481e-02,  1.6971e-02, -3.1026e-03,  6.2245e-04, -2.6483e-03,\n",
       "          -4.2054e-03, -1.7987e-02,  6.4550e-03,  3.4025e-03,  1.0240e-02],\n",
       "         [-8.4224e-03, -5.7901e-04, -3.3507e-03, -4.0000e-03,  2.4519e-02,\n",
       "          -6.0447e-03, -3.0996e-03, -1.5123e-02,  5.3249e-03, -5.7312e-03],\n",
       "         [-3.2785e-03,  5.6112e-03, -1.7734e-02, -1.4271e-02,  6.6476e-04,\n",
       "           8.6907e-03, -4.5605e-03, -5.6257e-03,  3.4511e-03,  3.9170e-03],\n",
       "         [ 4.7921e-03, -8.5102e-03, -1.3250e-02,  1.9172e-03,  1.4085e-02,\n",
       "          -7.9493e-04, -1.2401e-02,  4.5921e-03, -1.4592e-02,  1.3265e-02],\n",
       "         [ 4.6850e-03, -1.5736e-02,  8.3037e-03, -5.0330e-03,  7.9925e-03,\n",
       "           1.0959e-02,  4.5826e-03, -7.8739e-03, -1.8707e-04, -1.1267e-02],\n",
       "         [-9.7662e-03, -1.2705e-03,  1.2883e-03, -1.6688e-02, -1.7673e-02,\n",
       "           4.1469e-03, -3.3823e-03,  3.7356e-04,  8.8485e-03,  1.2473e-02],\n",
       "         [-8.9064e-03, -6.6461e-03, -3.1664e-03,  5.0377e-03, -1.1010e-03,\n",
       "           4.7966e-03,  3.5409e-03, -3.7064e-03,  1.1501e-02, -8.8469e-03],\n",
       "         [-1.0675e-02, -1.8330e-02, -1.8297e-03, -1.1551e-02, -8.1533e-03,\n",
       "           6.7690e-05,  1.5806e-02, -1.7399e-03, -3.9737e-03, -5.4232e-03],\n",
       "         [-1.0995e-02,  1.0004e-02,  1.0568e-03, -6.0455e-05,  4.3568e-03,\n",
       "           6.2741e-03,  1.3973e-02,  1.3298e-02,  1.4901e-02,  2.6062e-03],\n",
       "         [ 2.2442e-03, -1.1319e-02, -4.6519e-03,  1.5396e-02, -9.7817e-03,\n",
       "          -4.1560e-03, -1.3202e-02,  1.0801e-02,  1.8441e-02, -1.6376e-02],\n",
       "         [-8.6736e-03,  1.2437e-02,  1.0864e-03,  1.9642e-02,  2.3139e-03,\n",
       "           4.7218e-03,  4.2787e-03,  6.1862e-03, -3.0920e-03, -5.9414e-03],\n",
       "         [-1.6313e-03,  5.3484e-03,  2.5587e-03, -7.6054e-03, -1.4344e-03,\n",
       "          -8.4442e-03, -3.5444e-03, -6.7798e-04, -1.9257e-03,  1.3628e-03],\n",
       "         [-1.2935e-03,  6.3675e-03,  8.7607e-03,  6.7082e-03,  7.3343e-03,\n",
       "           4.7037e-03, -2.1010e-02, -4.3540e-03,  6.6658e-03, -5.0790e-03],\n",
       "         [-2.3513e-03,  2.1614e-02, -1.4968e-04, -7.1563e-03, -9.3957e-03,\n",
       "           1.2879e-03, -8.3905e-03,  1.3074e-03,  1.6370e-03, -4.3829e-03],\n",
       "         [-3.4511e-03,  9.3918e-03,  1.7534e-03, -6.1512e-03,  2.5615e-04,\n",
       "          -1.0562e-02, -8.6115e-03, -1.3004e-02,  9.2847e-03, -5.0452e-03],\n",
       "         [-1.4869e-02, -1.4901e-02,  2.0976e-03, -3.0803e-04,  4.0494e-03,\n",
       "           4.7136e-04,  5.7883e-03,  4.1005e-03,  2.1750e-03, -2.7105e-03],\n",
       "         [-4.1236e-04, -1.0375e-02,  1.4513e-02,  3.7492e-03, -4.3716e-03,\n",
       "           1.0339e-02, -5.6889e-05,  6.1552e-03, -2.3157e-03,  1.1034e-02],\n",
       "         [ 2.1486e-02, -2.2371e-02,  4.1989e-03,  1.6087e-03,  1.1058e-03,\n",
       "           3.8408e-04, -1.1643e-03, -3.9892e-03, -2.1252e-02, -2.9849e-03],\n",
       "         [ 4.8528e-03, -5.6270e-04,  1.2985e-02,  1.2284e-02, -1.9772e-02,\n",
       "          -3.2095e-03,  5.9611e-03, -1.9574e-02,  9.2409e-03, -1.6412e-02]],\n",
       "        requires_grad=True),\n",
       " Parameter containing:\n",
       " tensor([0., 0., 0., 0., 0., 0., 0., 0., 0., 0.], requires_grad=True)]"
      ]
     },
     "execution_count": 15,
     "metadata": {},
     "output_type": "execute_result"
    }
   ],
   "source": [
    "list(dense_network.parameters())"
   ]
  },
  {
   "cell_type": "markdown",
   "metadata": {},
   "source": [
    "## Загрузка и предобработка данных"
   ]
  },
  {
   "cell_type": "code",
   "execution_count": 16,
   "metadata": {
    "ExecuteTime": {
     "end_time": "2022-09-19T20:11:48.251531Z",
     "start_time": "2022-09-19T20:11:47.388999Z"
    }
   },
   "outputs": [],
   "source": [
    "import matplotlib.pyplot as plt\n",
    "\n",
    "%matplotlib inline"
   ]
  },
  {
   "cell_type": "markdown",
   "metadata": {},
   "source": [
    "Мы реализовали все архитектурные составляющие нашей нейронной сети. Осталось загрузить данные и обучить модель. Мы будем работать с датасетом [`Digits`](https://archive.ics.uci.edu/ml/datasets/Optical+Recognition+of+Handwritten+Digits), каждый объект в котором — это изображение рукописной цифры размером $8 \\times 8$. Задачей нашей модели будет *классификация* данных изображений."
   ]
  },
  {
   "cell_type": "markdown",
   "metadata": {},
   "source": [
    "Загрузим данные и преобразуем их в тензоры:"
   ]
  },
  {
   "cell_type": "code",
   "execution_count": 17,
   "metadata": {
    "ExecuteTime": {
     "end_time": "2022-09-19T20:11:52.563266Z",
     "start_time": "2022-09-19T20:11:48.253344Z"
    }
   },
   "outputs": [],
   "source": [
    "from sklearn.datasets import load_digits\n",
    "from sklearn.model_selection import train_test_split"
   ]
  },
  {
   "cell_type": "code",
   "execution_count": 18,
   "metadata": {
    "ExecuteTime": {
     "end_time": "2022-09-19T20:11:52.637096Z",
     "start_time": "2022-09-19T20:11:52.564861Z"
    }
   },
   "outputs": [],
   "source": [
    "X, y = load_digits(return_X_y=True)"
   ]
  },
  {
   "cell_type": "markdown",
   "metadata": {
    "ExecuteTime": {
     "end_time": "2022-09-02T00:35:58.380930Z",
     "start_time": "2022-09-02T00:35:58.375930Z"
    }
   },
   "source": [
    "Разделим данные на обучение и контроль в пропорции $1$ к $3$ и преобразуем их в тензоры:"
   ]
  },
  {
   "cell_type": "code",
   "execution_count": 19,
   "metadata": {
    "ExecuteTime": {
     "end_time": "2022-09-19T20:11:52.644936Z",
     "start_time": "2022-09-19T20:11:52.639015Z"
    }
   },
   "outputs": [],
   "source": [
    "X_train, X_test, y_train, y_test = train_test_split(X, y, test_size=0.25)\n",
    "X_train = torch.Tensor(X_train)\n",
    "X_test = torch.Tensor(X_test)\n",
    "y_train = torch.Tensor(y_train)#, dtype=torch.long)\n",
    "y_test = torch.Tensor(y_test)#, dtype=torch.long)"
   ]
  },
  {
   "cell_type": "code",
   "execution_count": 20,
   "metadata": {
    "ExecuteTime": {
     "end_time": "2022-09-19T20:11:52.649072Z",
     "start_time": "2022-09-19T20:11:52.646234Z"
    }
   },
   "outputs": [
    {
     "name": "stdout",
     "output_type": "stream",
     "text": [
      "torch.Size([1347, 64]) torch.Size([450, 64]) torch.Size([1347]) torch.Size([450])\n"
     ]
    }
   ],
   "source": [
    "print(X_train.shape, X_test.shape, y_train.shape, y_test.shape)"
   ]
  },
  {
   "cell_type": "markdown",
   "metadata": {
    "ExecuteTime": {
     "end_time": "2022-09-02T00:42:36.674373Z",
     "start_time": "2022-09-02T00:42:36.662374Z"
    }
   },
   "source": [
    "Нарисуем несколько объектов из выборки:"
   ]
  },
  {
   "cell_type": "code",
   "execution_count": 21,
   "metadata": {
    "ExecuteTime": {
     "end_time": "2022-09-19T20:25:35.354282Z",
     "start_time": "2022-09-19T20:25:34.812815Z"
    }
   },
   "outputs": [
    {
     "data": {
      "image/png": "[encoded data removed]",
      "text/plain": [
       "<Figure size 1000x500 with 8 Axes>"
      ]
     },
     "metadata": {},
     "output_type": "display_data"
    }
   ],
   "source": [
    "fig, axes = plt.subplots(2, 4, figsize=(10, 5))\n",
    "\n",
    "for idx, ds in enumerate(((X_train, y_train), (X_test, y_test))):\n",
    "    for jdx, kdx in enumerate(np.random.randint(0, len(ds[0]), size=4)):\n",
    "        image, label = ds[0][kdx], ds[1][kdx]\n",
    "        axes[idx, jdx].imshow(image.reshape([8, 8]).numpy(), cmap='gray')\n",
    "        axes[idx, jdx].set_title(f'Метка класса: {label}')\n",
    "        \n",
    "axes[0, 0].set_ylabel('Обучающая выборка')\n",
    "axes[1, 0].set_ylabel('Тестовая выборка')\n",
    "\n",
    "#fig.text(\n",
    "#    0.5, 0.5, 'Только для ознакомления', \n",
    "#    fontsize=40, color='gray', alpha=0.6,\n",
    "#    ha='center', va='center', rotation='30'\n",
    "#)\n",
    "\n",
    "fig.tight_layout()\n",
    "plt.show()"
   ]
  },
  {
   "cell_type": "markdown",
   "metadata": {},
   "source": [
    "## Обучение нейронной сети."
   ]
  },
  {
   "cell_type": "markdown",
   "metadata": {},
   "source": [
    "Теперь всё готово к обучению нейронной сети. Для градиентной оптимизации в **Pytorch** реализовано множество оптимизаторов. В данном случае мы будем использовать оптимизатор **LBFGS** (класс `torch.optim.LBFGS`).\n",
    "\n",
    "Большинство оптимизаторов в **Pytorch** отнаследовано от базового класса `torch.optim.Optimizer` и имеют следующий вид:\n",
    "```python\n",
    "\n",
    "class OptimizerExample(torch.optim.Optimizer):\n",
    "    def __init__(self, params, **hyperparameters):\n",
    "        '''\n",
    "        Конструктор оптимизатора\n",
    "        \n",
    "        :param params: список или генератор обучаемых параметров модели\n",
    "        :param hyperparameters: различные гиперпараметры оптимизатора, например, темп обучения\n",
    "        '''\n",
    "        super().__init__(params, hyperparameters)\n",
    "    \n",
    "        \n",
    "    def step(self, closure=None):\n",
    "        '''\n",
    "        Функция, выполняющая шаг оптимизации, используя градиенты, сохранённые в тензорах self.params\n",
    "        '''\n",
    "        ...\n",
    "        \n",
    "    def zero_grad(self):\n",
    "        '''\n",
    "        Функция, очищающая градиенты, сохранённые в тензорах self.params\n",
    "        '''\n",
    "        ...\n",
    "```"
   ]
  },
  {
   "cell_type": "markdown",
   "metadata": {
    "ExecuteTime": {
     "end_time": "2022-08-16T20:25:27.514076Z",
     "start_time": "2022-08-16T20:25:27.511075Z"
    }
   },
   "source": [
    "Создадим нейросеть, оптимизатор, а также класс-функцию потерь:"
   ]
  },
  {
   "cell_type": "code",
   "execution_count": 22,
   "metadata": {
    "ExecuteTime": {
     "end_time": "2022-09-19T20:11:53.257969Z",
     "start_time": "2022-09-19T20:11:53.253397Z"
    }
   },
   "outputs": [],
   "source": [
    "dense_network = DenseNetwork(\n",
    "    in_features=in_features, hidden_size=hidden_size, \n",
    "    n_classes=n_classes, n_layers=3, activation=ReLU\n",
    ")\n",
    "\n",
    "# По умолчанию, LBFGS может делать несколько шагов оптимизации внутри себя. \n",
    "#   Чтобы ограничить это поведение, установим параметр max_iter равным 1\n",
    "optimizer = torch.optim.LBFGS(dense_network.parameters(), max_iter=1)\n",
    "\n",
    "loss_fn = CrossEntropyLoss()"
   ]
  },
  {
   "cell_type": "code",
   "execution_count": 23,
   "metadata": {
    "ExecuteTime": {
     "end_time": "2022-09-19T20:11:53.262937Z",
     "start_time": "2022-09-19T20:11:53.259422Z"
    }
   },
   "outputs": [
    {
     "data": {
      "text/plain": [
       "(DenseNetwork(\n",
       "   (layers): Sequential(\n",
       "     (0): Linear(64, 32)\n",
       "     (1): ReLU()\n",
       "     (2): Linear(32, 32)\n",
       "     (3): ReLU()\n",
       "     (4): Linear(32, 10)\n",
       "   )\n",
       " ),\n",
       " LBFGS (\n",
       " Parameter Group 0\n",
       "     history_size: 100\n",
       "     line_search_fn: None\n",
       "     lr: 1\n",
       "     max_eval: 1\n",
       "     max_iter: 1\n",
       "     tolerance_change: 1e-09\n",
       "     tolerance_grad: 1e-07\n",
       " ),\n",
       " CrossEntropyLoss())"
      ]
     },
     "execution_count": 23,
     "metadata": {},
     "output_type": "execute_result"
    }
   ],
   "source": [
    "dense_network, optimizer, loss_fn"
   ]
  },
  {
   "cell_type": "markdown",
   "metadata": {},
   "source": [
    "Одно из основных преимуществ **Pytorch** — возможность использовать графический ускоритель, что уменьшает время вычислений на порядки. При этом, Pytorch позволяет писать код таким образом, чтобы он запускался на любых устройствах, будь то CPU, или GPU, или TPU/XML (device-agnostic код). Для этого в Pytorch реализован класс-обёртка `torch.device`, содержащий информацию об устройстве, на котором будут происходить вычисления:"
   ]
  },
  {
   "cell_type": "code",
   "execution_count": 24,
   "metadata": {
    "ExecuteTime": {
     "end_time": "2022-09-19T20:11:53.267369Z",
     "start_time": "2022-09-19T20:11:53.264602Z"
    }
   },
   "outputs": [
    {
     "name": "stdout",
     "output_type": "stream",
     "text": [
      "<class 'torch.device'> cpu\n"
     ]
    }
   ],
   "source": [
    "device = torch.device('cpu')\n",
    "if torch.cuda.is_available():\n",
    "    device = torch.device('cuda', 0)\n",
    "    \n",
    "print(type(device), device)"
   ]
  },
  {
   "cell_type": "markdown",
   "metadata": {},
   "source": [
    "Для переноса всех параметров модели на нужное устройство можно использовать метод `to`:"
   ]
  },
  {
   "cell_type": "code",
   "execution_count": 25,
   "metadata": {
    "ExecuteTime": {
     "end_time": "2022-09-19T20:11:53.273501Z",
     "start_time": "2022-09-19T20:11:53.268696Z"
    }
   },
   "outputs": [
    {
     "data": {
      "text/plain": [
       "(DenseNetwork(\n",
       "   (layers): Sequential(\n",
       "     (0): Linear(64, 32)\n",
       "     (1): ReLU()\n",
       "     (2): Linear(32, 32)\n",
       "     (3): ReLU()\n",
       "     (4): Linear(32, 10)\n",
       "   )\n",
       " ),\n",
       " Parameter containing:\n",
       " tensor([[ 0.0127, -0.0124,  0.0011,  ..., -0.0011,  0.0031, -0.0089],\n",
       "         [-0.0124,  0.0089, -0.0037,  ...,  0.0026,  0.0132,  0.0243],\n",
       "         [-0.0113,  0.0019,  0.0171,  ..., -0.0011, -0.0137, -0.0111],\n",
       "         ...,\n",
       "         [ 0.0021, -0.0211,  0.0063,  ...,  0.0061,  0.0029,  0.0022],\n",
       "         [ 0.0098, -0.0107, -0.0104,  ..., -0.0104,  0.0293,  0.0114],\n",
       "         [-0.0043, -0.0106, -0.0127,  ..., -0.0058, -0.0008, -0.0069]],\n",
       "        requires_grad=True))"
      ]
     },
     "execution_count": 25,
     "metadata": {},
     "output_type": "execute_result"
    }
   ],
   "source": [
    "dense_network.to(device), next(iter(dense_network.parameters()))"
   ]
  },
  {
   "cell_type": "markdown",
   "metadata": {},
   "source": [
    "Теперь, осталось только реализовать цикл оптимизации и подсчёт метрик. \n",
    "\n",
    "\n",
    "Реализуем цикл обучения модели в функции `training_loop`:"
   ]
  },
  {
   "cell_type": "code",
   "execution_count": 26,
   "metadata": {},
   "outputs": [],
   "source": [
    "from sklearn.metrics import accuracy_score"
   ]
  },
  {
   "cell_type": "code",
   "execution_count": 27,
   "metadata": {
    "ExecuteTime": {
     "end_time": "2022-09-19T20:11:53.286069Z",
     "start_time": "2022-09-19T20:11:53.275076Z"
    }
   },
   "outputs": [],
   "source": [
    "import tqdm.notebook as tqdm\n",
    "\n",
    "def training_loop(n_epochs, network, loss_fn, optimizer, ds_train, ds_test, device):\n",
    "    '''\n",
    "    :param int n_epochs: Число итераций оптимизации\n",
    "    :param torch.nn.Module network: Нейронная сеть\n",
    "    :param Callable loss_fn: Функция потерь\n",
    "    :param torch.nn.Optimizer optimizer: Оптимизатор\n",
    "    :param Tuple[torch.Tensor, torch.Tensor] ds_train: Признаки и метки истинного класса обучающей выборки\n",
    "    :param Tuple[torch.Tensor, torch.Tensor] ds_test: Признаки и метки истинного класса тестовой выборки\n",
    "    :param torch.Device device: Устройство на котором будут происходить вычисления\n",
    "    :returns: Списки значений функции потерь и точности на обучающей и тестовой выборках после каждой итерации\n",
    "    '''\n",
    "    train_losses, test_losses, train_accuracies, test_accuracies = [], [], [], []\n",
    "    for epoch in tqdm.tqdm(range(n_epochs), total=n_epochs, leave=True):\n",
    "         # Переводим сеть в режим обучения\n",
    "        network.train()\n",
    "\n",
    "        # Итерация обучения сети\n",
    "        def closure():\n",
    "            '''\n",
    "            Функция-замыкания для подсчёта градиентов функции потерь по обучающей выборке:\n",
    "                1. Отчистка текущих градиентов\n",
    "                2. Выполнение прямого прохода по сети в вычисление функции потерь\n",
    "                3. Вычисление градиентов функции потерь\n",
    "            :returns: Значение функции потерь\n",
    "            '''\n",
    "            optimizer.zero_grad()\n",
    "\n",
    "            out = network(ds_train[0].to(device))\n",
    "            curloss = loss_fn(out, ds_train[1].to(device).to(torch.long))\n",
    "            train_losses.append(curloss.item())\n",
    "\n",
    "            curloss.backward()\n",
    "\n",
    "            return curloss.item()\n",
    "        \n",
    "        # Шаг оптимизации\n",
    "        optimizer.step(closure)\n",
    "        \n",
    "        # Переводим сеть в инференс режим\n",
    "        network.eval()\n",
    "\n",
    "        # При тестировании сети нет необходимости считать градиенты, поэтому можно отключить автоматическое дифференцирование\n",
    "        #   для ускорения операций\n",
    "        with torch.no_grad():\n",
    "            # Вычисление качества и функции потерь на обучающей выборке\n",
    "            out = network(ds_train[0].to(device))\n",
    "            curloss = loss_fn(out, ds_train[1].to(torch.long))\n",
    "            train_losses.append(curloss.item())\n",
    "            #curacc = torch.sum(out.argmax(axis=1)==ds_train[1])/ds_train[1].shape[0]\n",
    "            #train_accuracies.append(curacc.detach())\n",
    "            train_accuracies.append(accuracy_score(torch.argmax(out.cpu(), axis=1), ds_train[1]))\n",
    "\n",
    "            \n",
    "            # Вычисление качества и функции потерь на тестовой выборке\n",
    "            out = network(ds_test[0].to(device))\n",
    "            curloss = loss_fn(out, ds_test[1].to(torch.long))\n",
    "            test_losses.append(curloss.item())\n",
    "            #curacc = torch.sum(out.argmax(axis=1)==ds_test[1])/ds_test[1].shape[0]\n",
    "            #test_accuracies.append(curacc.detach())\n",
    "            test_accuracies.append(accuracy_score(torch.argmax(out.cpu(), axis=1), ds_test[1]))\n",
    "            \n",
    "            if epoch % 20 == 0:\n",
    "                print(\n",
    "                    'Loss (Train/Test): {0:.3f}/{1:.3f}. Accuracy, % (Train/Test): {2:.2f}/{3:.2f}'.format(\n",
    "                        train_losses[-1], test_losses[-1], train_accuracies[-1], test_accuracies[-1]\n",
    "                    )\n",
    "                )\n",
    "            \n",
    "    return train_losses, test_losses, train_accuracies, test_accuracies"
   ]
  },
  {
   "cell_type": "markdown",
   "metadata": {},
   "source": [
    "Обучим сеть. Во всех экспериментах обучаем сеть $200$ эпох с параметром `max_iter=1` в оптимизаторе."
   ]
  },
  {
   "cell_type": "code",
   "execution_count": 28,
   "metadata": {
    "ExecuteTime": {
     "end_time": "2022-09-19T20:11:54.261643Z",
     "start_time": "2022-09-19T20:11:53.287755Z"
    }
   },
   "outputs": [
    {
     "data": {
      "application/vnd.jupyter.widget-view+json": {
       "model_id": "f6a1dab9da96413482ab362edf7647b5",
       "version_major": 2,
       "version_minor": 0
      },
      "text/plain": [
       "  0%|          | 0/200 [00:00<?, ?it/s]"
      ]
     },
     "metadata": {},
     "output_type": "display_data"
    },
    {
     "name": "stdout",
     "output_type": "stream",
     "text": [
      "Loss (Train/Test): 2.302/2.303. Accuracy, % (Train/Test): 0.18/0.14\n",
      "Loss (Train/Test): 0.870/1.043. Accuracy, % (Train/Test): 0.68/0.64\n",
      "Loss (Train/Test): 0.170/0.336. Accuracy, % (Train/Test): 0.95/0.92\n",
      "Loss (Train/Test): 0.007/0.586. Accuracy, % (Train/Test): 1.00/0.95\n",
      "Loss (Train/Test): 0.000/3.020. Accuracy, % (Train/Test): 1.00/0.94\n",
      "Loss (Train/Test): 0.000/3.138. Accuracy, % (Train/Test): 1.00/0.94\n",
      "Loss (Train/Test): 0.000/3.138. Accuracy, % (Train/Test): 1.00/0.94\n",
      "Loss (Train/Test): 0.000/3.138. Accuracy, % (Train/Test): 1.00/0.94\n",
      "Loss (Train/Test): 0.000/3.138. Accuracy, % (Train/Test): 1.00/0.94\n",
      "Loss (Train/Test): 0.000/3.138. Accuracy, % (Train/Test): 1.00/0.94\n"
     ]
    }
   ],
   "source": [
    "train_losses, test_losses, train_accs, test_accs = training_loop(\n",
    "    n_epochs=200, network=dense_network, loss_fn=loss_fn, \n",
    "    optimizer=optimizer, ds_train=(X_train, y_train), ds_test=(X_test, y_test), device=device\n",
    ")"
   ]
  },
  {
   "cell_type": "markdown",
   "metadata": {},
   "source": [
    "Выведем итоговое качество и значение функции потерь на обучении (`X_train`, `y_train`) и на контроле (`X_test`, `y_test`):"
   ]
  },
  {
   "cell_type": "code",
   "execution_count": 29,
   "metadata": {
    "ExecuteTime": {
     "end_time": "2022-09-19T20:11:54.267322Z",
     "start_time": "2022-09-19T20:11:54.263721Z"
    },
    "scrolled": true
   },
   "outputs": [
    {
     "name": "stdout",
     "output_type": "stream",
     "text": [
      "Cross Entropy (Train/Test): 2.477995364458252e-09/3.1381723880767822\n",
      "Accuracy (Train/Test): 1.0/0.9422222222222222\n"
     ]
    }
   ],
   "source": [
    "print(f'Cross Entropy (Train/Test): {train_losses[-1]}/{test_losses[-1]}')\n",
    "print(f'Accuracy (Train/Test): {train_accs[-1]}/{test_accs[-1]}')"
   ]
  },
  {
   "cell_type": "markdown",
   "metadata": {},
   "source": [
    "Изобразим на графике кривую качества на обучении и контроле по итерациям:"
   ]
  },
  {
   "cell_type": "code",
   "execution_count": 30,
   "metadata": {
    "ExecuteTime": {
     "end_time": "2022-09-19T20:11:54.439002Z",
     "start_time": "2022-09-19T20:11:54.273107Z"
    }
   },
   "outputs": [
    {
     "data": {
      "image/png": "[encoded data removed]",
      "text/plain": [
       "<Figure size 1000x500 with 1 Axes>"
      ]
     },
     "metadata": {},
     "output_type": "display_data"
    }
   ],
   "source": [
    "fig, ax = plt.subplots(1, 1, figsize=(10, 5))\n",
    "ax.plot(train_accs, label=\"train acc\")\n",
    "ax.plot(test_accs, label=\"test acc\")\n",
    "ax.set_xlabel(\"Iteration\")\n",
    "ax.set_ylabel(\"Accuracy\")\n",
    "ax.grid(True)\n",
    "ax.legend()\n",
    "\n",
    "#fig.text(\n",
    "#    0.5, 0.5, 'Только для ознакомления', \n",
    "#    fontsize=40, color='gray', alpha=0.6,\n",
    "#    ha='center', va='center', rotation='30'\n",
    "#)\n",
    "\n",
    "fig.tight_layout()\n",
    "plt.show()"
   ]
  }
 ],
 "metadata": {
  "kernelspec": {
   "display_name": "Python 3 (ipykernel)",
   "language": "python",
   "name": "python3"
  },
  "language_info": {
   "codemirror_mode": {
    "name": "ipython",
    "version": 3
   },
   "file_extension": ".py",
   "mimetype": "text/x-python",
   "name": "python",
   "nbconvert_exporter": "python",
   "pygments_lexer": "ipython3",
   "version": "3.10.6"
  }
 },
 "nbformat": 4,
 "nbformat_minor": 2
}
